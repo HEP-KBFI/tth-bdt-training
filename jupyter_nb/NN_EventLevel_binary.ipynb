{
 "cells": [
  {
   "cell_type": "code",
   "execution_count": null,
   "metadata": {},
   "outputs": [],
   "source": [
    "import ROOT\n",
    "import pandas\n",
    "import math\n",
    "#matplotlib.use('agg')\n",
    "%matplotlib inline\n",
    "import matplotlib #as matplot\n",
    "print(matplotlib.__version__)\n",
    "#print(matplotlib.path)\n",
    "import matplotlib.pyplot as plt\n",
    "from matplotlib import cm as cm\n",
    "import numpy as np\n",
    "import time"
   ]
  },
  {
   "cell_type": "code",
   "execution_count": null,
   "metadata": {},
   "outputs": [],
   "source": [
    "# test that matplotlib imported ok\n",
    "x1, y1 = [-1, 12], [1, 4]\n",
    "x2, y2 = [1, 10], [3, 2]\n",
    "plt.plot(x1, y1, x2, y2, marker = 'o')\n",
    "plt.show()"
   ]
  },
  {
   "cell_type": "code",
   "execution_count": null,
   "metadata": {},
   "outputs": [],
   "source": [
    "from sklearn.metrics import roc_curve, auc\n",
    "import pylab\n",
    "import sklearn as sk\n",
    "print(sk.__version__)\n",
    "from sklearn.model_selection import train_test_split"
   ]
  },
  {
   "cell_type": "code",
   "execution_count": null,
   "metadata": {},
   "outputs": [],
   "source": [
    "import tensorflow as tf\n",
    "print(tf.__version__)\n",
    "######################\n",
    "import keras as kr\n",
    "from keras.models import Sequential\n",
    "from keras.layers import InputLayer, Input\n",
    "from keras.layers import Reshape, MaxPooling2D\n",
    "from keras.layers import Conv2D, Dense, Flatten, Dropout\n",
    "print(kr.__version__)\n",
    "from keras import backend as K\n",
    "import tensorflow as tf\n",
    "print(tf.__version__)\n",
    "config = tf.ConfigProto(intra_op_parallelism_threads=32, \\\n",
    "                        inter_op_parallelism_threads=32, \\\n",
    "                        allow_soft_placement=True, \\\n",
    "                        device_count = {'CPU': 32}\n",
    "                       )\n",
    "session = tf.Session(config=config)\n",
    "K.set_session(session)"
   ]
  },
  {
   "cell_type": "code",
   "execution_count": null,
   "metadata": {},
   "outputs": [],
   "source": [
    "################\n",
    "## load the data\n",
    "################\n",
    "channel='2l_2tau_HH'\n",
    "bdtType = \"evtLevelSUM_HH_2l_2tau_res\"\n",
    "tauID = \"dR03mvaLoose\""
   ]
  },
  {
   "cell_type": "code",
   "execution_count": null,
   "metadata": {},
   "outputs": [],
   "source": [
    "%run ../python/data_manager.py\n",
    "if channel=='2l_2tau_HH' : \n",
    "    %run ../cards/info_2l_2tau_HH.py\n",
    "output = read_from(tauID)\n",
    "print (\"read from:\", output[\"inputPath\"])\n",
    "print (\"Date: \", time.asctime( time.localtime(time.time()) ))\n",
    "data=load_data_2017(\n",
    "    output[\"inputPath\"], \n",
    "    output[\"channelInTree\"], \n",
    "    trainVars(True), \n",
    "    [], \n",
    "    bdtType, \n",
    "    channel,\n",
    "    output[\"keys\"], \n",
    "    output[\"masses\"],\n",
    ") # note: I had to add channel as argument of the function\n",
    "print (len(data))\n",
    "print (\"Date: \", time.asctime( time.localtime(time.time()) ))"
   ]
  },
  {
   "cell_type": "code",
   "execution_count": null,
   "metadata": {},
   "outputs": [],
   "source": [
    "#### not finshed cell, do your fix for normalization\n",
    "keys = ['ttHToNonbb', 'TTWJets', 'TTZJets', 'TTTo2L2Nu', 'TTToSemiLeptonic', 'THW_ctcvcp', 'THQ_ctcvcp' ] \n",
    "weights=\"evtWeight\"\n",
    "\n",
    "print (\"Date: \", time.asctime( time.localtime(time.time()) ))\n",
    "data.loc[(data[\"target\"]==1) & (data[channels[nn]].values) , [\"weight_cx\"]]      *= output[0]/data.loc[(data[\"target\"]==1)  & (data[channels[nn]].values), weights].sum()\n",
    "data.loc[(data['key']=='TTWJets') & (data[channels[nn]].values) , [\"weight_cx\"]] *= output[1]/data.loc[(data['key']=='TTWJets') & (data[channels[nn]].values), weights].sum()\n",
    "data.loc[(data['key']=='TTZJets') & (data[channels[nn]].values) , [\"weight_cx\"]] *= output[2]/data.loc[(data['key']=='TTZJets')  & (data[channels[nn]].values), weights].sum()\n",
    "data.loc[(data['key'].isin(['TTTo2L2Nu','TTToSemiLeptonic', 'TTToHadronic'])) & (data[channels[nn]].values) , [\"weight_cx\"]] *= output[3]/data.loc[(data['key'].isin(['TTTo2L2Nu','TTToSemiLeptonic', 'TTToHadronic'])) & (data[channels[nn]].values), weights].sum()\n",
    "data.loc[(data['key']=='THQ_ctcvcp') & (data[channels[nn]].values) , [\"weight_cx\"]] *= output[4]/data.loc[(data['key']=='THQ_ctcvcp') & (data[channels[nn]].values), weights].sum()\n",
    "data.loc[(data['key']=='THW_ctcvcp') & (data[channels[nn]].values) , [\"weight_cx\"]] *= output[5]/data.loc[(data['key']=='THW_ctcvcp') & (data[channels[nn]].values), weights].sum()\n",
    "# add \n",
    "print (\"Date: \", time.asctime( time.localtime(time.time()) ))"
   ]
  },
  {
   "cell_type": "code",
   "execution_count": null,
   "metadata": {},
   "outputs": [],
   "source": []
  }
 ],
 "metadata": {
  "kernelspec": {
   "display_name": "Python 2",
   "language": "python",
   "name": "python2"
  },
  "language_info": {
   "codemirror_mode": {
    "name": "ipython",
    "version": 2
   },
   "file_extension": ".py",
   "mimetype": "text/x-python",
   "name": "python",
   "nbconvert_exporter": "python",
   "pygments_lexer": "ipython2",
   "version": "2.7.14+"
  }
 },
 "nbformat": 4,
 "nbformat_minor": 2
}
